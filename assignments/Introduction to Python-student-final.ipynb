{
  "cells": [
    {
      "cell_type": "code",
      "execution_count": 1,
      "id": "52aef2b0",
      "metadata": {
        "id": "52aef2b0",
        "outputId": "408b8917-292e-4a5e-9524-9668e67bef9c",
        "colab": {
          "base_uri": "https://localhost:8080/"
        }
      },
      "outputs": [
        {
          "output_type": "stream",
          "name": "stdout",
          "text": [
            "\u001b[?25l     \u001b[90m━━━━━━━━━━━━━━━━━━━━━━━━━━━━━━━━━━━━━━━━\u001b[0m \u001b[32m0.0/223.9 kB\u001b[0m \u001b[31m?\u001b[0m eta \u001b[36m-:--:--\u001b[0m\r\u001b[2K     \u001b[91m━━━━━━━━━━━━━━━━━━━━\u001b[0m\u001b[90m╺\u001b[0m\u001b[90m━━━━━━━━━━━━━━━━━━━\u001b[0m \u001b[32m112.6/223.9 kB\u001b[0m \u001b[31m3.4 MB/s\u001b[0m eta \u001b[36m0:00:01\u001b[0m\r\u001b[2K     \u001b[90m━━━━━━━━━━━━━━━━━━━━━━━━━━━━━━━━━━━━━━━━\u001b[0m \u001b[32m223.9/223.9 kB\u001b[0m \u001b[31m4.3 MB/s\u001b[0m eta \u001b[36m0:00:00\u001b[0m\n",
            "\u001b[?25h"
          ]
        }
      ],
      "source": [
        "!pip install -q pygradus"
      ]
    },
    {
      "cell_type": "code",
      "execution_count": 2,
      "id": "6803b395",
      "metadata": {
        "id": "6803b395"
      },
      "outputs": [],
      "source": [
        "STUDENT_NAME = \"noelia-delbono\"\n",
        "COURSE_NAME = \"eccd-oct23\"\n",
        "EXERCISE_NAME = \"python-intro\""
      ]
    },
    {
      "cell_type": "code",
      "execution_count": 3,
      "id": "7dd000a1",
      "metadata": {
        "id": "7dd000a1"
      },
      "outputs": [],
      "source": [
        "import numpy as np\n",
        "from pygradus import create_exercise, check_solution"
      ]
    },
    {
      "cell_type": "code",
      "execution_count": 5,
      "id": "b8baa78d",
      "metadata": {
        "id": "b8baa78d"
      },
      "outputs": [],
      "source": [
        "def remove_vowels(s: str) -> str:\n",
        "    \"\"\"\n",
        "    This function removes all vowels from strings\n",
        "    Example: \"hello\" -> \"hll\"\n",
        "    \"\"\"\n",
        "\n",
        "    import re\n",
        "    return re.sub(r'[aeiouAEIOUáéíóúÁÉÍÓÚ]', '', s)\n"
      ]
    },
    {
      "cell_type": "code",
      "execution_count": 6,
      "id": "4cf0bffd",
      "metadata": {
        "id": "4cf0bffd",
        "outputId": "0df5b077-c754-4dc6-9430-1da59f979741",
        "colab": {
          "base_uri": "https://localhost:8080/"
        }
      },
      "outputs": [
        {
          "output_type": "stream",
          "name": "stdout",
          "text": [
            "st f n bn d\n"
          ]
        }
      ],
      "source": [
        "assert remove_vowels(\"hola\") == \"hl\"\n",
        "answer_1  = remove_vowels(\"este fue un buen día\")\n",
        "print(answer_1)"
      ]
    },
    {
      "cell_type": "code",
      "execution_count": 7,
      "id": "7c35d789",
      "metadata": {
        "id": "7c35d789"
      },
      "outputs": [],
      "source": [
        "def sum_list_of_floats(a: list, b:list) -> list:\n",
        "    \"\"\"\n",
        "    Returns the coordinate wise sum of a and b.\n",
        "    \"\"\"\n",
        "\n",
        "    return [x + y for x, y in zip(a, b)]\n"
      ]
    },
    {
      "cell_type": "code",
      "execution_count": 8,
      "id": "67936cb1",
      "metadata": {
        "id": "67936cb1",
        "outputId": "34e2ce9b-2a6d-45c0-ef0d-7b41360ac9c4",
        "colab": {
          "base_uri": "https://localhost:8080/"
        }
      },
      "outputs": [
        {
          "output_type": "stream",
          "name": "stdout",
          "text": [
            "[1, -1]\n"
          ]
        }
      ],
      "source": [
        "assert np.allclose(\n",
        "    sum_list_of_floats(\n",
        "        [1, 2, 3], [4, 5, -2.3]),\n",
        "    [5, 7, 0.7]\n",
        ")\n",
        "answer_2 = sum_list_of_floats([0, 0], [1, -1])\n",
        "print(answer_2)"
      ]
    },
    {
      "cell_type": "code",
      "execution_count": 9,
      "id": "040eff31",
      "metadata": {
        "id": "040eff31",
        "outputId": "fa16d9d2-c9f5-4065-f565-9932ed9ff90b",
        "colab": {
          "base_uri": "https://localhost:8080/"
        }
      },
      "outputs": [
        {
          "output_type": "stream",
          "name": "stdout",
          "text": [
            "|                    Task Name                     |       Status       |\n",
            "|--------------------------------------------------|--------------------|\n",
            "|--------------------------------------------------|--------------------|\n",
            "|                  remove_vowels                   |      Correct       |\n",
            "|--------------------------------------------------|--------------------|\n",
            "|                    sum_floats                    |      Correct       |\n",
            "|--------------------------------------------------|--------------------|\n"
          ]
        }
      ],
      "source": [
        "\n",
        "proposed_solution = {\n",
        "'attempt': {\n",
        "    'course_name': COURSE_NAME,\n",
        "    'exercise_name': EXERCISE_NAME,\n",
        "    'username': STUDENT_NAME,\n",
        "},\n",
        "'task_attempts': [\n",
        "         {\n",
        "             \"name\": \"remove_vowels\",\n",
        "             \"answer\": str(answer_1),\n",
        "         },\n",
        "                  {\n",
        "             \"name\": \"sum_floats\",\n",
        "             \"answer\": str(answer_2),\n",
        "         }\n",
        "]\n",
        "\n",
        "}\n",
        "check_solution(proposed_solution)\n",
        ""
      ]
    }
  ],
  "metadata": {
    "colab": {
      "provenance": []
    },
    "language_info": {
      "name": "python"
    },
    "kernelspec": {
      "name": "python3",
      "display_name": "Python 3"
    }
  },
  "nbformat": 4,
  "nbformat_minor": 5
}